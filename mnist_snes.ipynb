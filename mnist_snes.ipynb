{
 "cells": [
  {
   "cell_type": "code",
   "execution_count": 1,
   "metadata": {},
   "outputs": [
    {
     "name": "stderr",
     "output_type": "stream",
     "text": [
      "Using TensorFlow backend.\n"
     ]
    }
   ],
   "source": [
    "# this main code by Ssamot from https://github.com/ssamot/infoGA/blob/master/mnist_snes_example.py\n",
    "# plot loss function from https://machinelearningmastery.com/display-deep-learning-model-training-history-in-keras/\n",
    "# converting MNIST into 3 dimentional from Rabia Yasa Kostas (1700421)/\n",
    "\n",
    "import pickle as pkl\n",
    "import numpy as np\n",
    "import matplotlib.pyplot as plt\n",
    "\n",
    "from timeit import default_timer as timer\n",
    "from keras import backend as K\n",
    "from keras.datasets import mnist\n",
    "from keras.layers import Conv2D, MaxPooling2D\n",
    "from keras.layers import Dense, Flatten\n",
    "from keras.models import Sequential\n",
    "from sklearn.ensemble import RandomForestClassifier\n",
    "from sklearn.metrics import accuracy_score\n",
    "from sklearn.metrics import mean_squared_error\n",
    "from keras_helper import NNWeightHelper\n",
    "from keras.utils import np_utils\n",
    "from snes import SNES"
   ]
  },
  {
   "cell_type": "code",
   "execution_count": 2,
   "metadata": {},
   "outputs": [],
   "source": [
    "# use just a small sample of the train set to test\n",
    "SAMPLE_SIZE = 500\n",
    "# how many different sets of weights ask() should return for evaluation\n",
    "POPULATION_SIZE = 15\n",
    "# how many times we will loop over ask()/tell()\n",
    "GENERATIONS = 50"
   ]
  },
  {
   "cell_type": "code",
   "execution_count": 3,
   "metadata": {},
   "outputs": [],
   "source": [
    "def train_classifier(model, X, y):\n",
    "    X_features = model.predict(X)\n",
    "    clf = RandomForestClassifier(n_estimators = 10)\n",
    "    clf.fit(X_features, y)\n",
    "    y_pred = clf.predict(X_features)\n",
    "    return clf, y_pred\n",
    "\n",
    "\n",
    "def predict_classifier(model, clf, X):\n",
    "    X_features = model.predict(X)\n",
    "    return clf.predict(X_features)"
   ]
  },
  {
   "cell_type": "code",
   "execution_count": 4,
   "metadata": {},
   "outputs": [],
   "source": [
    "\n",
    "# input image dimensions\n",
    "img_rows, img_cols = 28, 28\n",
    "num_classes = 10"
   ]
  },
  {
   "cell_type": "code",
   "execution_count": 5,
   "metadata": {},
   "outputs": [],
   "source": [
    "# Load MNIST dataset from keras for source domain\n",
    "(x_train, y_train), (x_test, y_test) = mnist.load_data()\n",
    "x_train = x_train.reshape(60000, 28, 28, 1).astype(np.uint8) * 255\n",
    "x_train = np.concatenate([x_train, x_train, x_train], 3)"
   ]
  },
  {
   "cell_type": "code",
   "execution_count": 6,
   "metadata": {},
   "outputs": [],
   "source": [
    "# Load MNIST-M dataset for target domain\n",
    "mnistm = pkl.load(open('mnistm_data.pkl', 'rb'))\n",
    "mnistm_train = mnistm['train']\n",
    "mnistm_test = mnistm['test']\n",
    "mnistm_valid = mnistm['valid']\n",
    "x_test=mnistm_test"
   ]
  },
  {
   "cell_type": "code",
   "execution_count": 7,
   "metadata": {},
   "outputs": [],
   "source": [
    "# create part data for domain classifier, combination from source and target data\n",
    "x_domain=np.concatenate((x_train,x_test), axis =0)\n",
    "y_domain = np.concatenate((np.zeros(y_train.shape[0]), np.ones(y_test.shape[0])),axis=0)"
   ]
  },
  {
   "cell_type": "code",
   "execution_count": 8,
   "metadata": {},
   "outputs": [],
   "source": [
    "#data normalization\n",
    "x_train = x_train.astype('float32')\n",
    "x_test = x_test.astype('float32')\n",
    "x_train /= 255\n",
    "x_test /= 255"
   ]
  },
  {
   "cell_type": "code",
   "execution_count": 9,
   "metadata": {},
   "outputs": [
    {
     "name": "stdout",
     "output_type": "stream",
     "text": [
      "compilation is over\n"
     ]
    }
   ],
   "source": [
    "# neural network architecture\n",
    "model = Sequential()\n",
    "model.add(Conv2D(32, kernel_size=(3, 3),\n",
    "                 activation='relu',\n",
    "                 input_shape=(28,28,3)))\n",
    "model.add(Conv2D(64, (3, 3), activation='relu'))\n",
    "model.add(MaxPooling2D(pool_size=(2, 2)))\n",
    "model.add(Flatten())\n",
    "model.add(Dense(80, activation='relu'))\n",
    "\n",
    "# this is irrelevant for what we want to achieve\n",
    "model.compile(loss=\"mse\", optimizer=\"adam\")\n",
    "print(\"compilation is over\")\n",
    "nnw = NNWeightHelper(model)\n",
    "weights = nnw.get_weights()\n",
    "\n"
   ]
  },
  {
   "cell_type": "code",
   "execution_count": 10,
   "metadata": {},
   "outputs": [
    {
     "name": "stdout",
     "output_type": "stream",
     "text": [
      "Total number of weights to evolve is: (756752,)\n",
      "Non-trained NN Test accuracy: 0.1731\n",
      "Step 1.0 : -2.590818363273453 best: -2.590818363273453 15\n",
      "It took 25.036049601971172 seconds to complete generation 1\n",
      "Step 2.0 : -2.5548902195608783 best: -2.5548902195608783 15\n",
      "It took 23.37602155096829 seconds to complete generation 2\n",
      "Step 3.0 : -2.5848303393213574 best: -2.5548902195608783 15\n",
      "It took 24.437216817983426 seconds to complete generation 3\n",
      "Step 4.0 : -2.5768463073852295 best: -2.5548902195608783 15\n",
      "It took 36.09608659497462 seconds to complete generation 4\n",
      "Step 5.0 : -2.5409181636726546 best: -2.5409181636726546 15\n",
      "It took 32.308545045903884 seconds to complete generation 5\n",
      "Step 6.0 : -2.5508982035928143 best: -2.5409181636726546 15\n",
      "It took 32.64923382306006 seconds to complete generation 6\n",
      "Step 7.0 : -2.536926147704591 best: -2.536926147704591 15\n",
      "It took 31.416449278010987 seconds to complete generation 7\n",
      "Step 8.0 : -2.5708582834331337 best: -2.536926147704591 15\n",
      "It took 33.344139175023884 seconds to complete generation 8\n",
      "Step 9.0 : -2.568862275449102 best: -2.536926147704591 15\n",
      "It took 37.213112525991164 seconds to complete generation 9\n",
      "Step 10.0 : -2.536926147704591 best: -2.536926147704591 15\n",
      "It took 33.21489751606714 seconds to complete generation 10\n",
      "Step 11.0 : -2.538922155688623 best: -2.536926147704591 15\n",
      "It took 39.97088882303797 seconds to complete generation 11\n",
      "Step 12.0 : -2.5808383233532934 best: -2.536926147704591 15\n",
      "It took 43.74621245008893 seconds to complete generation 12\n",
      "Step 13.0 : -2.5588822355289422 best: -2.536926147704591 15\n",
      "It took 46.917899338994175 seconds to complete generation 13\n",
      "Step 14.0 : -2.530938123752495 best: -2.530938123752495 15\n",
      "It took 25.425589073915035 seconds to complete generation 14\n",
      "Step 15.0 : -2.520958083832335 best: -2.520958083832335 15\n",
      "It took 29.198098868946545 seconds to complete generation 15\n",
      "Step 16.0 : -2.506986027944112 best: -2.506986027944112 15\n",
      "It took 34.08591962396167 seconds to complete generation 16\n",
      "Step 17.0 : -2.5429141716566868 best: -2.506986027944112 15\n",
      "It took 32.81455502891913 seconds to complete generation 17\n",
      "Step 18.0 : -2.5469061876247503 best: -2.506986027944112 15\n",
      "It took 35.575861010933295 seconds to complete generation 18\n",
      "Step 19.0 : -2.5189620758483033 best: -2.506986027944112 15\n",
      "It took 34.96625708299689 seconds to complete generation 19\n",
      "Step 20.0 : -2.50499001996008 best: -2.50499001996008 15\n",
      "It took 42.63031261891592 seconds to complete generation 20\n",
      "Step 21.0 : -2.5269461077844313 best: -2.50499001996008 15\n",
      "It took 45.62053983297665 seconds to complete generation 21\n",
      "Step 22.0 : -2.5229540918163673 best: -2.50499001996008 15\n",
      "It took 39.3147884500213 seconds to complete generation 22\n",
      "Step 23.0 : -2.528942115768463 best: -2.50499001996008 15\n",
      "It took 47.61380283907056 seconds to complete generation 23\n",
      "Step 24.0 : -2.479041916167665 best: -2.479041916167665 15\n",
      "It took 41.15860387298744 seconds to complete generation 24\n",
      "Step 25.0 : -2.4830339321357284 best: -2.479041916167665 15\n",
      "It took 44.08262650598772 seconds to complete generation 25\n",
      "Step 26.0 : -2.471057884231537 best: -2.471057884231537 15\n",
      "It took 47.04580511304084 seconds to complete generation 26\n",
      "Step 27.0 : -2.4850299401197606 best: -2.471057884231537 15\n",
      "It took 44.991451520938426 seconds to complete generation 27\n",
      "Step 28.0 : -2.5229540918163673 best: -2.471057884231537 15\n",
      "It took 44.414057037909515 seconds to complete generation 28\n",
      "Step 29.0 : -2.49500998003992 best: -2.471057884231537 15\n",
      "It took 39.538553121034056 seconds to complete generation 29\n",
      "Step 30.0 : -2.506986027944112 best: -2.471057884231537 15\n",
      "It took 39.58869220898487 seconds to complete generation 30\n",
      "Step 31.0 : -2.499001996007984 best: -2.471057884231537 15\n",
      "It took 39.441344262100756 seconds to complete generation 31\n",
      "Step 32.0 : -2.4550898203592815 best: -2.4550898203592815 15\n",
      "It took 40.109691338962875 seconds to complete generation 32\n",
      "Step 33.0 : -2.5189620758483033 best: -2.4550898203592815 15\n",
      "It took 39.90625796606764 seconds to complete generation 33\n",
      "Step 34.0 : -2.5129740518962076 best: -2.4550898203592815 15\n",
      "It took 40.06165319203865 seconds to complete generation 34\n",
      "Step 35.0 : -2.502994011976048 best: -2.4550898203592815 15\n",
      "It took 39.15542852401268 seconds to complete generation 35\n",
      "Step 36.0 : -2.4770459081836327 best: -2.4550898203592815 15\n",
      "It took 37.790459137992 seconds to complete generation 36\n",
      "Step 37.0 : -2.4810379241516967 best: -2.4550898203592815 15\n",
      "It took 39.13364430598449 seconds to complete generation 37\n",
      "Step 38.0 : -2.497005988023952 best: -2.4550898203592815 15\n",
      "It took 38.66928471904248 seconds to complete generation 38\n",
      "Step 39.0 : -2.500998003992016 best: -2.4550898203592815 15\n",
      "It took 42.52635821304284 seconds to complete generation 39\n",
      "Step 40.0 : -2.489021956087824 best: -2.4550898203592815 15\n",
      "It took 44.98885205597617 seconds to complete generation 40\n",
      "Step 41.0 : -2.4810379241516967 best: -2.4550898203592815 15\n",
      "It took 45.65600847103633 seconds to complete generation 41\n",
      "Step 42.0 : -2.4830339321357284 best: -2.4550898203592815 15\n",
      "It took 45.56340121291578 seconds to complete generation 42\n",
      "Step 43.0 : -2.4770459081836327 best: -2.4550898203592815 15\n",
      "It took 44.313256724970415 seconds to complete generation 43\n",
      "Step 44.0 : -2.471057884231537 best: -2.4550898203592815 15\n",
      "It took 49.854035682976246 seconds to complete generation 44\n",
      "Step 45.0 : -2.4830339321357284 best: -2.4550898203592815 15\n",
      "It took 53.039416905958205 seconds to complete generation 45\n",
      "Step 46.0 : -2.4850299401197606 best: -2.4550898203592815 15\n",
      "It took 52.96315335505642 seconds to complete generation 46\n",
      "Step 47.0 : -2.4510978043912175 best: -2.4510978043912175 15\n",
      "It took 45.74555433297064 seconds to complete generation 47\n",
      "Step 48.0 : -2.4451097804391217 best: -2.4451097804391217 15\n",
      "It took 56.94571790494956 seconds to complete generation 48\n",
      "Step 49.0 : -2.4910179640718564 best: -2.4451097804391217 15\n",
      "It took 58.14840081206057 seconds to complete generation 49\n",
      "Step 50.0 : -2.4570858283433132 best: -2.4451097804391217 15\n",
      "It took 57.36910950904712 seconds to complete generation 50\n",
      "Test accuracy on target: 0.1582\n"
     ]
    }
   ],
   "source": [
    "print(\"Total number of weights to evolve is:\", weights.shape)\n",
    "all_examples_indices = list(range(x_train.shape[0]))\n",
    "clf, _ = train_classifier(model, x_train, y_train)\n",
    "y_pred = predict_classifier(model, clf, x_test)\n",
    "\n",
    "test_accuracy = accuracy_score(y_test, y_pred)\n",
    "print('Non-trained NN Test accuracy:', test_accuracy)\n",
    "# print('Test MSE:', test_mse)\n",
    "\n",
    "snes = SNES(weights, 1, POPULATION_SIZE)\n",
    "log = []\n",
    "for i in range(0, GENERATIONS):\n",
    "    start = timer()\n",
    "    asked = snes.ask()\n",
    "\n",
    "    # to be provided back to snes\n",
    "    told = []\n",
    "\n",
    "    # use a small number of training samples for speed purposes\n",
    "    subsample_indices = np.random.choice(all_examples_indices, size=SAMPLE_SIZE, replace=False)\n",
    "    # evaluate on another subset\n",
    "    subsample_indices_valid = np.random.choice(all_examples_indices, size=SAMPLE_SIZE + 1, replace=False)\n",
    "\n",
    "    # iterate over the population\n",
    "    for asked_j in asked:\n",
    "        # set nn weights\n",
    "        nnw.set_weights(asked_j)\n",
    "        # train the label classifer and get back the predictions on the training data\n",
    "        clf, _ = train_classifier(model, x_train[subsample_indices], y_train[subsample_indices])\n",
    "        # train the domain classifier and get back the predictions on the training data\n",
    "        clf2, _ = train_classifier(model, x_domain[subsample_indices], y_domain[subsample_indices])\n",
    "\n",
    "        # calculate the label predictions on a different set\n",
    "        y_pred = predict_classifier(model, clf, x_train[subsample_indices_valid])\n",
    "        score = accuracy_score(y_train[subsample_indices_valid], y_pred)\n",
    "\n",
    "        # calculate the domain predictions on a different set\n",
    "        y_pred2 = predict_classifier(model, clf2, x_domain[subsample_indices_valid])\n",
    "        score2 = accuracy_score(y_domain[subsample_indices_valid], y_pred2)\n",
    "        \n",
    "        # weighted score to give back to snes\n",
    "        total = (score+(3*-score2))\n",
    "        told.append(total)\n",
    "\n",
    "    temp = snes.tell(asked, told)\n",
    "    log.append(temp)\n",
    "    end = timer()\n",
    "    print(\"It took\", end - start, \"seconds to complete generation\", i + 1)\n",
    "    \n",
    "nnw.set_weights(snes.center)\n",
    "\n",
    "# predict on target data\n",
    "clf, _ = train_classifier(model, x_train, y_train)\n",
    "y_pred = predict_classifier(model, clf, x_test)\n",
    "test_accuracy = accuracy_score(y_test, y_pred)\n",
    "print('Test accuracy on target:', test_accuracy)"
   ]
  },
  {
   "cell_type": "code",
   "execution_count": 11,
   "metadata": {},
   "outputs": [
    {
     "data": {
      "image/png": "[encoded data removed]",
      "text/plain": [
       "<Figure size 432x288 with 1 Axes>"
      ]
     },
     "metadata": {},
     "output_type": "display_data"
    }
   ],
   "source": [
    "\n",
    "#Plot the loss for each generation\n",
    "plt.plot(log)\n",
    "plt.title('loss plot(Mnist as a source and Mnist-m as a target)')\n",
    "plt.xlabel('genaration')\n",
    "plt.ylabel('loss value')\n",
    "plt.legend('test', loc='upper left')\n",
    "plt.savefig('Plot_mnist_mnistm.png')\n",
    "plt.show()"
   ]
  },
  {
   "cell_type": "code",
   "execution_count": null,
   "metadata": {},
   "outputs": [],
   "source": []
  }
 ],
 "metadata": {
  "kernelspec": {
   "display_name": "Python 3",
   "language": "python",
   "name": "python3"
  },
  "language_info": {
   "codemirror_mode": {
    "name": "ipython",
    "version": 3
   },
   "file_extension": ".py",
   "mimetype": "text/x-python",
   "name": "python",
   "nbconvert_exporter": "python",
   "pygments_lexer": "ipython3",
   "version": "3.6.4"
  }
 },
 "nbformat": 4,
 "nbformat_minor": 2
}
