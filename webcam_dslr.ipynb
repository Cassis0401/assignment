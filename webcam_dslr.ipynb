{
 "cells": [
  {
   "cell_type": "code",
   "execution_count": 1,
   "metadata": {},
   "outputs": [
    {
     "name": "stderr",
     "output_type": "stream",
     "text": [
      "Using TensorFlow backend.\n"
     ]
    }
   ],
   "source": [
    "# this main code by Ssamot from https://github.com/ssamot/infoGA/blob/master/mnist_snes_example.py\n",
    "# plot loss function from https://machinelearningmastery.com/display-deep-learning-model-training-history-in-keras/\n",
    "# loading data office-31 from Lyu Chaofan 1706987\n",
    "\n",
    "from timeit import default_timer as timer\n",
    "import numpy as np\n",
    "import pandas as pd\n",
    "from keras import backend as K\n",
    "from keras.layers import Conv2D, MaxPooling2D\n",
    "from keras.layers import Dense, Flatten, Dropout\n",
    "from keras.models import Sequential\n",
    "from sklearn.ensemble import RandomForestClassifier\n",
    "from sklearn.metrics import accuracy_score\n",
    "from keras_helper import NNWeightHelper\n",
    "from snes import SNES\n",
    "import os\n",
    "import cv2\n",
    "import matplotlib.pyplot as plt\n",
    "from dataSet import dataSet"
   ]
  },
  {
   "cell_type": "code",
   "execution_count": 2,
   "metadata": {},
   "outputs": [],
   "source": [
    "#randomforest classifier\n",
    "def train_classifier(model, X, y):\n",
    "    X_features = model.predict(X)\n",
    "    clf = RandomForestClassifier(n_estimators=10)\n",
    "    clf.fit(X_features, y)\n",
    "    y_pred = clf.predict(X_features)\n",
    "    return clf, y_pred\n",
    "#prediction \n",
    "def predict_classifier(model, clf, X):\n",
    "    X_features = model.predict(X)\n",
    "    return clf.predict(X_features)\n",
    "\n",
    "# input image dimensions\n",
    "img_rows, img_cols = 28, 28\n",
    "num_classes = 31\n",
    "\n",
    "# use just a small sample of the train set to test\n",
    "SAMPLE_SIZE = 300\n",
    "# how many different sets of weights ask() should return for evaluation\n",
    "POPULATION_SIZE = 15\n",
    "# how many times we will loop over ask()/tell()\n",
    "GENERATIONS = 30"
   ]
  },
  {
   "cell_type": "code",
   "execution_count": 3,
   "metadata": {},
   "outputs": [],
   "source": [
    "#Loading the data from path-\n",
    "Amazon_path = './Original_images/amazon/images'\n",
    "dslr_path   = './Original_images/dslr/images'\n",
    "webcam_path = './Original_images/webcam/images'\n",
    "paths = [Amazon_path, dslr_path, webcam_path]\n",
    "files = os.listdir(Amazon_path)\n",
    "labels = {}\n",
    "count  = 0\n",
    "for key in files:\n",
    "    a = {key : count}\n",
    "    labels.update(a)\n",
    "    count += 1\n",
    "images_path = []\n",
    "dslr   = dataSet()\n",
    "webcam = dataSet()\n",
    "for key in files:\n",
    "    a = {key : count}\n",
    "    labels.update(a)\n",
    "    count += 1\n",
    "# print (labels)\n",
    "\n",
    "images_path = []\n",
    "dslr   = dataSet()\n",
    "webcam = dataSet()"
   ]
  },
  {
   "cell_type": "code",
   "execution_count": 4,
   "metadata": {},
   "outputs": [
    {
     "name": "stdout",
     "output_type": "stream",
     "text": [
      "\n",
      "done\n",
      "\n",
      "done\n"
     ]
    }
   ],
   "source": [
    "#loading DSLR data\n",
    "for dirname in files:\n",
    "    images_name = os.listdir(dslr_path + '/' + dirname)\n",
    "    for name in images_name:\n",
    "        Image_Path = dslr_path + '/' + dirname + '/' + name\n",
    "        images_path.append(Image_Path)\n",
    "        image_data = cv2.imread(Image_Path)\n",
    "        image_data = cv2.resize(image_data, (img_rows, img_cols), interpolation=cv2.INTER_CUBIC)\n",
    "        image_data = image_data.reshape(img_rows, img_cols, 3)\n",
    "        dslr.upData(image_data, labels[dirname], labels)\n",
    "dslr.sHape()\n",
    "#loading webcam data\n",
    "for dirname in files:\n",
    "    images_name = os.listdir(webcam_path + '/' + dirname)\n",
    "    for name in images_name:\n",
    "        Image_Path = webcam_path + '/' + dirname + '/' + name\n",
    "        images_path.append(Image_Path)\n",
    "        image_data = cv2.imread(Image_Path)\n",
    "        image_data = cv2.resize(image_data, (img_rows, img_cols), interpolation=cv2.INTER_CUBIC)\n",
    "        image_data = image_data.reshape(img_rows, img_cols, 3)\n",
    "        webcam.upData(image_data, labels[dirname], labels)\n",
    "webcam.sHape()"
   ]
  },
  {
   "cell_type": "code",
   "execution_count": 5,
   "metadata": {},
   "outputs": [
    {
     "name": "stdout",
     "output_type": "stream",
     "text": [
      "For label classifier\n",
      "x_train shape: (795, 28, 28, 3)\n",
      "x_test shape: (498, 28, 28, 3)\n",
      "795 train samples\n",
      "498 test samples\n",
      "For domain classifier\n",
      "x_domain shape: (1293, 28, 28, 3)\n",
      "1293 domain samples\n"
     ]
    }
   ],
   "source": [
    "#label classifier data\n",
    "x_train = webcam.data\n",
    "y_train = webcam.label\n",
    "x_test  = dslr.data\n",
    "y_test  = dslr.label\n",
    "x_train = x_train.reshape(x_train.shape[0], img_rows, img_cols, 3)\n",
    "x_test = x_test.reshape(x_test.shape[0], img_rows, img_cols, 3)\n",
    "input_shape = (img_rows, img_cols, 3)\n",
    "#data normalization\n",
    "x_train = x_train.astype('float32')\n",
    "x_test = x_test.astype('float32')\n",
    "x_train /= 255\n",
    "x_test /= 255\n",
    "#domain classifier data\n",
    "x_domain=np.concatenate((x_train,x_test), axis =0)\n",
    "y_domain = np.concatenate((np.zeros(y_train.shape[0]), np.ones(y_test.shape[0])),axis=0)\n",
    "print(\"For label classifier\")\n",
    "print('x_train shape:', x_train.shape)\n",
    "print('x_test shape:', x_test.shape)\n",
    "print(x_train.shape[0], 'train samples')\n",
    "print(x_test.shape[0], 'test samples')\n",
    "print(\"For domain classifier\")\n",
    "print('x_domain shape:', x_domain.shape)\n",
    "print(y_domain.shape[0], 'domain samples')"
   ]
  },
  {
   "cell_type": "code",
   "execution_count": 6,
   "metadata": {},
   "outputs": [],
   "source": [
    "#the neural network model\n",
    "model = Sequential()\n",
    "model.add(Conv2D(32, kernel_size=(3, 3),\n",
    "                 activation='relu',\n",
    "                 input_shape=(28,28,3)))\n",
    "model.add(Conv2D(64, (3, 3), activation='relu'))\n",
    "model.add(MaxPooling2D(pool_size=(2, 2)))\n",
    "model.add(Flatten())\n",
    "model.add(Dense(80, activation='relu'))\n",
    "nnw = NNWeightHelper(model)\n",
    "weights = nnw.get_weights()"
   ]
  },
  {
   "cell_type": "code",
   "execution_count": 7,
   "metadata": {},
   "outputs": [
    {
     "name": "stdout",
     "output_type": "stream",
     "text": [
      "Total number of weights to evolve is: (756752,)\n",
      "x_test shape: (498,)\n",
      "x_pred shape: (498,)\n",
      "Non-trained NN Test accuracy: 0.09236947791164658\n"
     ]
    }
   ],
   "source": [
    "print(\"Total number of weights to evolve is:\", weights.shape)\n",
    "all_examples_indices = list(range(x_train.shape[0]))\n",
    "clf, _ = train_classifier(model, x_train, y_train)\n",
    "y_pred = predict_classifier(model, clf, x_test)\n",
    "print('x_test shape:',y_test.shape)\n",
    "print('x_pred shape:',y_pred.shape)\n",
    "test_accuracy = accuracy_score(y_test, y_pred)\n",
    "print('Non-trained NN Test accuracy:', test_accuracy)"
   ]
  },
  {
   "cell_type": "code",
   "execution_count": 8,
   "metadata": {},
   "outputs": [
    {
     "name": "stdout",
     "output_type": "stream",
     "text": [
      "Step 1.0 : 0.5681063122923588 best: 0.5681063122923588 15\n",
      "It took 42.362870916957036 seconds to complete generation 1\n",
      "Step 2.0 : 0.5514950166112956 best: 0.5681063122923588 15\n",
      "It took 37.5371100109769 seconds to complete generation 2\n",
      "Step 3.0 : 0.5481727574750831 best: 0.5681063122923588 15\n",
      "It took 37.36026216193568 seconds to complete generation 3\n",
      "Step 4.0 : 0.5714285714285714 best: 0.5714285714285714 15\n",
      "It took 35.40028721105773 seconds to complete generation 4\n",
      "Step 5.0 : 0.5714285714285714 best: 0.5714285714285714 15\n",
      "It took 38.41905374801718 seconds to complete generation 5\n",
      "Step 6.0 : 0.5581395348837209 best: 0.5714285714285714 15\n",
      "It took 37.74498580605723 seconds to complete generation 6\n",
      "Step 7.0 : 0.5647840531561462 best: 0.5714285714285714 15\n",
      "It took 37.0495457299985 seconds to complete generation 7\n",
      "Step 8.0 : 0.5481727574750831 best: 0.5714285714285714 15\n",
      "It took 33.498170227976516 seconds to complete generation 8\n",
      "Step 9.0 : 0.5448504983388704 best: 0.5714285714285714 15\n",
      "It took 29.72775488998741 seconds to complete generation 9\n",
      "Step 10.0 : 0.5813953488372093 best: 0.5813953488372093 15\n",
      "It took 30.89655417902395 seconds to complete generation 10\n",
      "Step 11.0 : 0.6146179401993356 best: 0.6146179401993356 15\n",
      "It took 28.704773663077503 seconds to complete generation 11\n",
      "Step 12.0 : 0.5681063122923588 best: 0.6146179401993356 15\n",
      "It took 31.75220093491953 seconds to complete generation 12\n",
      "Step 13.0 : 0.6079734219269103 best: 0.6146179401993356 15\n",
      "It took 31.777965683024377 seconds to complete generation 13\n",
      "Step 14.0 : 0.5548172757475083 best: 0.6146179401993356 15\n",
      "It took 37.06844076397829 seconds to complete generation 14\n",
      "Step 15.0 : 0.6146179401993356 best: 0.6146179401993356 15\n",
      "It took 36.62757599889301 seconds to complete generation 15\n",
      "Step 16.0 : 0.5980066445182725 best: 0.6146179401993356 15\n",
      "It took 34.5796102139866 seconds to complete generation 16\n",
      "Step 17.0 : 0.6212624584717608 best: 0.6212624584717608 15\n",
      "It took 37.06207701808307 seconds to complete generation 17\n",
      "Step 18.0 : 0.6345514950166113 best: 0.6345514950166113 15\n",
      "It took 36.431194657925516 seconds to complete generation 18\n",
      "Step 19.0 : 0.5714285714285714 best: 0.6345514950166113 15\n",
      "It took 38.316351796966046 seconds to complete generation 19\n",
      "Step 20.0 : 0.5813953488372093 best: 0.6345514950166113 15\n",
      "It took 36.8202066400554 seconds to complete generation 20\n",
      "Step 21.0 : 0.5980066445182725 best: 0.6345514950166113 15\n",
      "It took 30.582491209963337 seconds to complete generation 21\n",
      "Step 22.0 : 0.5946843853820598 best: 0.6345514950166113 15\n",
      "It took 27.847861297079362 seconds to complete generation 22\n",
      "Step 23.0 : 0.6013289036544851 best: 0.6345514950166113 15\n",
      "It took 27.0519339190796 seconds to complete generation 23\n",
      "Step 24.0 : 0.5780730897009967 best: 0.6345514950166113 15\n",
      "It took 26.975391676067375 seconds to complete generation 24\n",
      "Step 25.0 : 0.5913621262458472 best: 0.6345514950166113 15\n",
      "It took 27.222524355049245 seconds to complete generation 25\n",
      "Step 26.0 : 0.6013289036544851 best: 0.6345514950166113 15\n",
      "It took 26.696001730044372 seconds to complete generation 26\n",
      "Step 27.0 : 0.627906976744186 best: 0.6345514950166113 15\n",
      "It took 26.580756003037095 seconds to complete generation 27\n",
      "Step 28.0 : 0.5813953488372093 best: 0.6345514950166113 15\n",
      "It took 19.64595473103691 seconds to complete generation 28\n",
      "Step 29.0 : 0.5880398671096345 best: 0.6345514950166113 15\n",
      "It took 17.906700338004157 seconds to complete generation 29\n",
      "Step 30.0 : 0.6046511627906976 best: 0.6345514950166113 15\n",
      "It took 18.381770726991817 seconds to complete generation 30\n",
      "(498,) (498,)\n",
      "Test accuracy on target: 0.13253012048192772\n"
     ]
    }
   ],
   "source": [
    "#evolutionary process with SNES\n",
    "snes = SNES(weights, 1, POPULATION_SIZE)\n",
    "log = []\n",
    "for i in range(0, GENERATIONS):\n",
    "    start = timer()\n",
    "    asked = snes.ask()\n",
    "\n",
    "    # to be provided back to snes\n",
    "    told = []\n",
    "    # use a small number of training samples for speed purposes\n",
    "    subsample_indices = np.random.choice(all_examples_indices, size=SAMPLE_SIZE, replace=False)\n",
    "    # evaluate on another subset\n",
    "    subsample_indices_valid = np.random.choice(all_examples_indices, size=SAMPLE_SIZE + 1, replace=False)\n",
    "\n",
    "    # iterate over the population\n",
    "    for asked_j in asked:\n",
    "        # set nn weights\n",
    "        nnw.set_weights(asked_j)\n",
    "        # train the classifer and get back the predictions on the training data\n",
    "        clf, _ = train_classifier(model, x_train[subsample_indices], y_train[subsample_indices])\n",
    "        clf2, _ = train_classifier(model, x_domain[subsample_indices], y_domain[subsample_indices])\n",
    "\n",
    "        # calculate the predictions on a different set\n",
    "        y_pred = predict_classifier(model, clf, x_train[subsample_indices_valid])\n",
    "        score = accuracy_score(y_train[subsample_indices_valid], y_pred)\n",
    "\n",
    "        y_pred2 = predict_classifier(model, clf, x_domain[subsample_indices_valid])\n",
    "        score2 = accuracy_score(y_domain[subsample_indices_valid], y_pred)\n",
    "                    \n",
    "        # append to array of values that are to be returned\n",
    "        total=score+score2\n",
    "        told.append(total)\n",
    "\n",
    "    t = snes.tell(asked, told)\n",
    "    log.append(t)\n",
    "    end = timer()\n",
    "    print(\"It took\", end - start, \"seconds to complete generation\", i + 1)\n",
    "nnw.set_weights(snes.center)\n",
    "\n",
    "clf, _ = train_classifier(model, x_train, y_train)\n",
    "y_pred = predict_classifier(model, clf, x_test)\n",
    "print(y_test.shape, y_pred.shape)\n",
    "test_accuracy = accuracy_score(y_test, y_pred)\n",
    "print('Test accuracy on target:', test_accuracy)"
   ]
  },
  {
   "cell_type": "code",
   "execution_count": 9,
   "metadata": {},
   "outputs": [
    {
     "data": {
      "image/png": "[encoded data removed]",
      "text/plain": [
       "<Figure size 432x288 with 1 Axes>"
      ]
     },
     "metadata": {},
     "output_type": "display_data"
    }
   ],
   "source": [
    "#Plot the loss for each generation\n",
    "plt.plot(log)\n",
    "plt.title('loss plot(Webcam as a source and DSLR as a target)')\n",
    "plt.xlabel('genaration')\n",
    "plt.ylabel('loss value')\n",
    "plt.legend('test', loc='upper left')\n",
    "plt.savefig('Plot_webcam_dslr.png')\n",
    "plt.show()"
   ]
  }
 ],
 "metadata": {
  "kernelspec": {
   "display_name": "Python 3",
   "language": "python",
   "name": "python3"
  },
  "language_info": {
   "codemirror_mode": {
    "name": "ipython",
    "version": 3
   },
   "file_extension": ".py",
   "mimetype": "text/x-python",
   "name": "python",
   "nbconvert_exporter": "python",
   "pygments_lexer": "ipython3",
   "version": "3.6.4"
  }
 },
 "nbformat": 4,
 "nbformat_minor": 2
}
