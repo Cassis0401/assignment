{
 "cells": [
  {
   "cell_type": "code",
   "execution_count": 1,
   "metadata": {},
   "outputs": [
    {
     "name": "stderr",
     "output_type": "stream",
     "text": [
      "Using TensorFlow backend.\n"
     ]
    }
   ],
   "source": [
    "# this main code by Ssamot from https://github.com/ssamot/infoGA/blob/master/mnist_snes_example.py\n",
    "# plot loss function from https://machinelearningmastery.com/display-deep-learning-model-training-history-in-keras/\n",
    "# loading data office-31 from Lyu Chaofan 1706987 from LYU CHAOFAN_Github(permission was obtained)https://github.com/C-002/CE888_Assignment/blob/master/LoadImages.ipynb\n",
    "\n",
    "import pickle as pkl\n",
    "import numpy as np\n",
    "import pandas as pd\n",
    "import matplotlib.pyplot as plt\n",
    "import os\n",
    "import cv2\n",
    "\n",
    "from dataSet import dataSet\n",
    "from timeit import default_timer as timer\n",
    "from keras import backend as K\n",
    "from keras.layers import Conv2D, MaxPooling2D\n",
    "from keras.layers import Dense, Flatten\n",
    "from keras.models import Sequential\n",
    "from sklearn.ensemble import RandomForestClassifier\n",
    "from sklearn.metrics import accuracy_score\n",
    "from sklearn.metrics import mean_squared_error\n",
    "from keras_helper import NNWeightHelper\n",
    "from snes import SNES"
   ]
  },
  {
   "cell_type": "code",
   "execution_count": 2,
   "metadata": {},
   "outputs": [],
   "source": [
    "#randomforest classifier\n",
    "def train_classifier(model, X, y):\n",
    "    X_features = model.predict(X)\n",
    "    clf = RandomForestClassifier(n_estimators=10)\n",
    "    clf.fit(X_features, y)\n",
    "    y_pred = clf.predict(X_features)\n",
    "    return clf, y_pred\n",
    "#prediction \n",
    "def predict_classifier(model, clf, X):\n",
    "    X_features = model.predict(X)\n",
    "    return clf.predict(X_features)\n",
    "# input image dimensions\n",
    "img_rows, img_cols = 28, 28\n",
    "num_classes = 31\n",
    "\n",
    "# use just a small sample of the train set to test\n",
    "SAMPLE_SIZE = 400\n",
    "# how many different sets of weights ask() should return for evaluation\n",
    "POPULATION_SIZE = 15\n",
    "# how many times we will loop over ask()/tell()\n",
    "GENERATIONS = 50"
   ]
  },
  {
   "cell_type": "code",
   "execution_count": 3,
   "metadata": {},
   "outputs": [],
   "source": [
    "#Loading the data from path-\n",
    "Amazon_path = './Original_images/amazon/images'\n",
    "dslr_path   = './Original_images/dslr/images'\n",
    "webcam_path = './Original_images/webcam/images'\n",
    "paths = [Amazon_path, dslr_path, webcam_path]\n",
    "files = os.listdir(Amazon_path)\n",
    "labels = {}\n",
    "count  = 0\n",
    "for key in files:\n",
    "    a = {key : count}\n",
    "    labels.update(a)\n",
    "    count += 1\n",
    "#print (labels)\n",
    "\n",
    "images_path = []\n",
    "dslr   = dataSet()\n",
    "webcam = dataSet()"
   ]
  },
  {
   "cell_type": "code",
   "execution_count": 4,
   "metadata": {},
   "outputs": [
    {
     "name": "stdout",
     "output_type": "stream",
     "text": [
      "\n",
      "done\n",
      "\n",
      "done\n"
     ]
    }
   ],
   "source": [
    "#loading DSLR data\n",
    "for dirname in files:\n",
    "    images_name = os.listdir(dslr_path + '/' + dirname)\n",
    "    for name in images_name:\n",
    "        Image_Path = dslr_path + '/' + dirname + '/' + name\n",
    "        images_path.append(Image_Path)\n",
    "        image_data = cv2.imread(Image_Path)\n",
    "        image_data = cv2.resize(image_data, (img_rows, img_cols), interpolation=cv2.INTER_CUBIC)\n",
    "        image_data = image_data.reshape(img_rows, img_cols, 3)\n",
    "        dslr.upData(image_data, labels[dirname], labels)\n",
    "dslr.sHape()\n",
    "#loading webcam data\n",
    "for dirname in files:\n",
    "    images_name = os.listdir(webcam_path + '/' + dirname)\n",
    "    for name in images_name:\n",
    "        Image_Path = webcam_path + '/' + dirname + '/' + name\n",
    "        images_path.append(Image_Path)\n",
    "        image_data = cv2.imread(Image_Path)\n",
    "        image_data = cv2.resize(image_data, (img_rows, img_cols), interpolation=cv2.INTER_CUBIC)\n",
    "        image_data = image_data.reshape(img_rows, img_cols, 3)\n",
    "        webcam.upData(image_data, labels[dirname], labels)\n",
    "webcam.sHape()\n"
   ]
  },
  {
   "cell_type": "code",
   "execution_count": 5,
   "metadata": {},
   "outputs": [
    {
     "name": "stdout",
     "output_type": "stream",
     "text": [
      "For label classifier\n",
      "x_train shape: (498, 28, 28, 3)\n",
      "x_test shape: (795, 28, 28, 3)\n",
      "498 train samples\n",
      "795 test samples\n",
      "For domain classifier\n",
      "x_domain shape: (1293, 28, 28, 3)\n",
      "1293 domain samples\n"
     ]
    }
   ],
   "source": [
    "#label classifier data\n",
    "x_train = dslr.data\n",
    "y_train = dslr.label\n",
    "x_test  = webcam.data\n",
    "y_test  = webcam.label\n",
    "x_train = x_train.reshape(x_train.shape[0], img_rows, img_cols, 3)\n",
    "x_test = x_test.reshape(x_test.shape[0], img_rows, img_cols, 3)\n",
    "input_shape = (img_rows, img_cols, 3)\n",
    "#data normalization\n",
    "x_train = x_train.astype('float32')\n",
    "x_test = x_test.astype('float32')\n",
    "x_train /= 255\n",
    "x_test /= 255\n",
    "#domain classifier data\n",
    "x_domain=np.concatenate((x_train,x_test), axis =0)\n",
    "y_domain = np.concatenate((np.zeros(y_train.shape[0]), np.ones(y_test.shape[0])),axis=0)\n",
    "print(\"For label classifier\")\n",
    "print('x_train shape:', x_train.shape)\n",
    "print('x_test shape:', x_test.shape)\n",
    "print(x_train.shape[0], 'train samples')\n",
    "print(x_test.shape[0], 'test samples')\n",
    "print(\"For domain classifier\")\n",
    "print('x_domain shape:', x_domain.shape)\n",
    "print(y_domain.shape[0], 'domain samples')"
   ]
  },
  {
   "cell_type": "code",
   "execution_count": 6,
   "metadata": {},
   "outputs": [],
   "source": [
    "#the neural network model\n",
    "model = Sequential()\n",
    "model.add(Conv2D(32, kernel_size=(3, 3),\n",
    "                 activation='relu',\n",
    "                 input_shape=(28,28,3)))\n",
    "model.add(Conv2D(64, (3, 3), activation='relu'))\n",
    "model.add(MaxPooling2D(pool_size=(2, 2)))\n",
    "model.add(Flatten())\n",
    "model.add(Dense(80, activation='relu'))\n",
    "nnw = NNWeightHelper(model)\n",
    "weights = nnw.get_weights()"
   ]
  },
  {
   "cell_type": "code",
   "execution_count": 7,
   "metadata": {},
   "outputs": [
    {
     "name": "stdout",
     "output_type": "stream",
     "text": [
      "Total number of weights to evolve is: (756752,)\n",
      "x_test shape: (795,)\n",
      "x_pred shape: (795,)\n",
      "Non-trained NN Test accuracy: 0.14339622641509434\n"
     ]
    }
   ],
   "source": [
    "print(\"Total number of weights to evolve is:\", weights.shape)\n",
    "all_examples_indices = list(range(x_train.shape[0]))\n",
    "clf, _ = train_classifier(model, x_train, y_train)\n",
    "y_pred = predict_classifier(model, clf, x_test)\n",
    "print('x_test shape:',y_test.shape)\n",
    "print('x_pred shape:',y_pred.shape)\n",
    "test_accuracy = accuracy_score(y_test, y_pred)\n",
    "print('Non-trained NN Test accuracy:', test_accuracy)"
   ]
  },
  {
   "cell_type": "code",
   "execution_count": 8,
   "metadata": {},
   "outputs": [
    {
     "name": "stdout",
     "output_type": "stream",
     "text": [
      "Step 1.0 : 0.9351620947630923 best: 0.9351620947630923 15\n",
      "It took 38.79973500396591 seconds to complete generation 1\n",
      "Step 2.0 : 0.9351620947630923 best: 0.9351620947630923 15\n",
      "It took 34.91304997401312 seconds to complete generation 2\n",
      "Step 3.0 : 0.942643391521197 best: 0.942643391521197 15\n",
      "It took 32.54528975998983 seconds to complete generation 3\n",
      "Step 4.0 : 0.9376558603491272 best: 0.942643391521197 15\n",
      "It took 39.41976836405229 seconds to complete generation 4\n",
      "Step 5.0 : 0.9376558603491272 best: 0.942643391521197 15\n",
      "It took 34.92431748902891 seconds to complete generation 5\n",
      "Step 6.0 : 0.9476309226932669 best: 0.9476309226932669 15\n",
      "It took 33.28629994392395 seconds to complete generation 6\n",
      "Step 7.0 : 0.9401496259351622 best: 0.9476309226932669 15\n",
      "It took 38.89633667306043 seconds to complete generation 7\n",
      "Step 8.0 : 0.940149625935162 best: 0.9476309226932669 15\n",
      "It took 37.75490256003104 seconds to complete generation 8\n",
      "Step 9.0 : 0.942643391521197 best: 0.9476309226932669 15\n",
      "It took 37.10279359505512 seconds to complete generation 9\n",
      "Step 10.0 : 0.9600997506234413 best: 0.9600997506234413 15\n",
      "It took 38.58529667905532 seconds to complete generation 10\n",
      "Step 11.0 : 0.9351620947630923 best: 0.9600997506234413 15\n",
      "It took 32.49073992506601 seconds to complete generation 11\n",
      "Step 12.0 : 0.9376558603491272 best: 0.9600997506234413 15\n",
      "It took 32.325105443946086 seconds to complete generation 12\n",
      "Step 13.0 : 0.942643391521197 best: 0.9600997506234413 15\n",
      "It took 32.56079298898112 seconds to complete generation 13\n",
      "Step 14.0 : 0.9675810473815462 best: 0.9675810473815462 15\n",
      "It took 32.81326010497287 seconds to complete generation 14\n",
      "Step 15.0 : 0.9551122194513716 best: 0.9675810473815462 15\n",
      "It took 32.337290642084554 seconds to complete generation 15\n",
      "Step 16.0 : 0.967581047381546 best: 0.9675810473815462 15\n",
      "It took 32.536233719903976 seconds to complete generation 16\n",
      "Step 17.0 : 0.9551122194513716 best: 0.9675810473815462 15\n",
      "It took 33.55113546003122 seconds to complete generation 17\n",
      "Step 18.0 : 0.9251870324189526 best: 0.9675810473815462 15\n",
      "It took 31.558019264019094 seconds to complete generation 18\n",
      "Step 19.0 : 0.9650872817955112 best: 0.9675810473815462 15\n",
      "It took 31.722788600018248 seconds to complete generation 19\n",
      "Step 20.0 : 0.9501246882793017 best: 0.9675810473815462 15\n",
      "It took 32.085688187973574 seconds to complete generation 20\n",
      "Step 21.0 : 0.9376558603491272 best: 0.9675810473815462 15\n",
      "It took 32.19202604307793 seconds to complete generation 21\n",
      "Step 22.0 : 0.9451371571072319 best: 0.9675810473815462 15\n",
      "It took 31.454149541910738 seconds to complete generation 22\n",
      "Step 23.0 : 0.9551122194513716 best: 0.9675810473815462 15\n",
      "It took 31.588713589007966 seconds to complete generation 23\n",
      "Step 24.0 : 0.9301745635910224 best: 0.9675810473815462 15\n",
      "It took 35.85464761406183 seconds to complete generation 24\n",
      "Step 25.0 : 0.9301745635910225 best: 0.9675810473815462 15\n",
      "It took 37.47994312096853 seconds to complete generation 25\n",
      "Step 26.0 : 0.9650872817955112 best: 0.9675810473815462 15\n",
      "It took 38.10186331800651 seconds to complete generation 26\n",
      "Step 27.0 : 0.9476309226932669 best: 0.9675810473815462 15\n",
      "It took 36.548291007988155 seconds to complete generation 27\n",
      "Step 28.0 : 0.9501246882793017 best: 0.9675810473815462 15\n",
      "It took 37.324686057982035 seconds to complete generation 28\n",
      "Step 29.0 : 0.9600997506234413 best: 0.9675810473815462 15\n",
      "It took 36.08588502695784 seconds to complete generation 29\n",
      "Step 30.0 : 0.9600997506234414 best: 0.9675810473815462 15\n",
      "It took 40.93424184399191 seconds to complete generation 30\n",
      "Step 31.0 : 0.9600997506234414 best: 0.9675810473815462 15\n",
      "It took 44.546192681998946 seconds to complete generation 31\n",
      "Step 32.0 : 0.942643391521197 best: 0.9675810473815462 15\n",
      "It took 42.61779504700098 seconds to complete generation 32\n",
      "Step 33.0 : 0.9650872817955112 best: 0.9675810473815462 15\n",
      "It took 40.93452065996826 seconds to complete generation 33\n",
      "Step 34.0 : 0.9326683291770574 best: 0.9675810473815462 15\n",
      "It took 36.6757015370531 seconds to complete generation 34\n",
      "Step 35.0 : 0.9551122194513716 best: 0.9675810473815462 15\n",
      "It took 50.36785408400465 seconds to complete generation 35\n",
      "Step 36.0 : 0.9476309226932668 best: 0.9675810473815462 15\n",
      "It took 47.96435763896443 seconds to complete generation 36\n",
      "Step 37.0 : 0.9650872817955112 best: 0.9675810473815462 15\n",
      "It took 46.523794659995474 seconds to complete generation 37\n",
      "Step 38.0 : 0.972568578553616 best: 0.972568578553616 15\n",
      "It took 50.39389624202158 seconds to complete generation 38\n",
      "Step 39.0 : 0.9800498753117207 best: 0.9800498753117207 15\n",
      "It took 46.78792345407419 seconds to complete generation 39\n",
      "Step 40.0 : 0.9426433915211969 best: 0.9800498753117207 15\n",
      "It took 45.61897210392635 seconds to complete generation 40\n",
      "Step 41.0 : 0.9451371571072319 best: 0.9800498753117207 15\n",
      "It took 40.77024118602276 seconds to complete generation 41\n",
      "Step 42.0 : 0.942643391521197 best: 0.9800498753117207 15\n",
      "It took 39.71708782890346 seconds to complete generation 42\n",
      "Step 43.0 : 0.9451371571072319 best: 0.9800498753117207 15\n",
      "It took 37.85892147303093 seconds to complete generation 43\n",
      "Step 44.0 : 0.9576059850374065 best: 0.9800498753117207 15\n",
      "It took 42.98532921203878 seconds to complete generation 44\n",
      "Step 45.0 : 0.972568578553616 best: 0.9800498753117207 15\n",
      "It took 46.71378477301914 seconds to complete generation 45\n",
      "Step 46.0 : 0.9600997506234414 best: 0.9800498753117207 15\n",
      "It took 45.25386285595596 seconds to complete generation 46\n",
      "Step 47.0 : 0.9226932668329177 best: 0.9800498753117207 15\n",
      "It took 47.157643381971866 seconds to complete generation 47\n",
      "Step 48.0 : 0.9675810473815462 best: 0.9800498753117207 15\n",
      "It took 47.958500879001804 seconds to complete generation 48\n",
      "Step 49.0 : 0.940149625935162 best: 0.9800498753117207 15\n",
      "It took 47.834734397009015 seconds to complete generation 49\n",
      "Step 50.0 : 0.9351620947630923 best: 0.9800498753117207 15\n",
      "It took 47.174842506996356 seconds to complete generation 50\n",
      "(795,) (795,)\n",
      "Test accuracy on target: 0.16981132075471697\n"
     ]
    }
   ],
   "source": [
    "#evolutionary process with SNES\n",
    "snes = SNES(weights, 1, POPULATION_SIZE)\n",
    "log = []\n",
    "for i in range(0, GENERATIONS):\n",
    "    start = timer()\n",
    "    asked = snes.ask()\n",
    "\n",
    "    # to be provided back to snes\n",
    "    told = []\n",
    "    # use a small number of training samples for speed purposes\n",
    "    subsample_indices = np.random.choice(all_examples_indices, size=SAMPLE_SIZE, replace=False)\n",
    "    # evaluate on another subset\n",
    "    subsample_indices_valid = np.random.choice(all_examples_indices, size=SAMPLE_SIZE + 1, replace=False)\n",
    "\n",
    "    # iterate over the population\n",
    "    for asked_j in asked:\n",
    "        # set nn weights\n",
    "        nnw.set_weights(asked_j)\n",
    "        # train the classifer and get back the predictions on the training data\n",
    "        clf, _ = train_classifier(model, x_train[subsample_indices], y_train[subsample_indices])\n",
    "        clf2, _ = train_classifier(model, x_domain[subsample_indices], y_domain[subsample_indices])\n",
    "\n",
    "        # calculate the predictions on a different set\n",
    "        y_pred = predict_classifier(model, clf, x_train[subsample_indices_valid])\n",
    "        score = accuracy_score(y_train[subsample_indices_valid], y_pred)\n",
    "\n",
    "        y_pred2 = predict_classifier(model, clf, x_domain[subsample_indices_valid])\n",
    "        score2 = accuracy_score(y_domain[subsample_indices_valid], y_pred)\n",
    "                    \n",
    "        # append to array of values that are to be returned\n",
    "        total=score+score2\n",
    "        told.append(total)\n",
    "\n",
    "    t = snes.tell(asked, told)\n",
    "    log.append(t)\n",
    "    end = timer()\n",
    "    print(\"It took\", end - start, \"seconds to complete generation\", i + 1)\n",
    "nnw.set_weights(snes.center)\n",
    "\n",
    "clf, _ = train_classifier(model, x_train, y_train)\n",
    "y_pred = predict_classifier(model, clf, x_test)\n",
    "print(y_test.shape, y_pred.shape)\n",
    "test_accuracy = accuracy_score(y_test, y_pred)\n",
    "print('Test accuracy on target:', test_accuracy)"
   ]
  },
  {
   "cell_type": "code",
   "execution_count": 9,
   "metadata": {},
   "outputs": [
    {
     "data": {
      "image/png": "[encoded data removed]",
      "text/plain": [
       "<Figure size 432x288 with 1 Axes>"
      ]
     },
     "metadata": {},
     "output_type": "display_data"
    }
   ],
   "source": [
    "#Plot the loss for each generation\n",
    "plt.plot(log)\n",
    "plt.title('loss plot(DSLR as a source and Webcam as a target)')\n",
    "plt.xlabel('genaration')\n",
    "plt.ylabel('loss value')\n",
    "plt.legend('test', loc='upper left')\n",
    "plt.savefig('Plot_Dslr_webcam.png')\n",
    "plt.show()"
   ]
  }
 ],
 "metadata": {
  "kernelspec": {
   "display_name": "Python 3",
   "language": "python",
   "name": "python3"
  },
  "language_info": {
   "codemirror_mode": {
    "name": "ipython",
    "version": 3
   },
   "file_extension": ".py",
   "mimetype": "text/x-python",
   "name": "python",
   "nbconvert_exporter": "python",
   "pygments_lexer": "ipython3",
   "version": "3.6.4"
  }
 },
 "nbformat": 4,
 "nbformat_minor": 2
}
