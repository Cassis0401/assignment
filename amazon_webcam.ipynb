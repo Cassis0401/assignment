{
 "cells": [
  {
   "cell_type": "code",
   "execution_count": 1,
   "metadata": {},
   "outputs": [
    {
     "name": "stderr",
     "output_type": "stream",
     "text": [
      "Using TensorFlow backend.\n"
     ]
    }
   ],
   "source": [
    "# plot loss function from https://machinelearningmastery.com/display-deep-learning-model-training-history-in-keras/\n",
    "# converting MNIST into 3 dimentional from Rabia Yasa Kostas (1700421)/\n",
    "# loading data office-31 from Lyu Chaofan 1706987 from LYU CHAOFAN_Github(permission was obtained)https://github.com/C-002/CE888_Assignment/blob/master/LoadImages.ipynb\n",
    "from timeit import default_timer as timer\n",
    "import numpy as np\n",
    "import pandas as pd\n",
    "from keras import backend as K\n",
    "from keras.layers import Conv2D, MaxPooling2D\n",
    "from keras.layers import Dense, Flatten, Dropout\n",
    "from keras.models import Sequential\n",
    "from sklearn.ensemble import RandomForestClassifier\n",
    "from sklearn.metrics import accuracy_score\n",
    "from keras_helper import NNWeightHelper\n",
    "from snes import SNES\n",
    "import os\n",
    "import cv2\n",
    "import matplotlib.pyplot as plt\n",
    "from dataSet import dataSet"
   ]
  },
  {
   "cell_type": "code",
   "execution_count": 2,
   "metadata": {},
   "outputs": [],
   "source": [
    "#randomforest classifier\n",
    "def train_classifier(model, X, y):\n",
    "    X_features = model.predict(X)\n",
    "    clf = RandomForestClassifier(n_estimators=10)\n",
    "    clf.fit(X_features, y)\n",
    "    y_pred = clf.predict(X_features)\n",
    "    return clf, y_pred\n",
    "#prediction \n",
    "def predict_classifier(model, clf, X):\n",
    "    X_features = model.predict(X)\n",
    "    return clf.predict(X_features)\n",
    "\n",
    "# input image dimensions\n",
    "img_rows, img_cols = 28, 28\n",
    "num_classes = 31\n",
    "\n",
    "# use just a small sample of the train set to test\n",
    "SAMPLE_SIZE = 500\n",
    "# how many different sets of weights ask() should return for evaluation\n",
    "POPULATION_SIZE = 15\n",
    "# how many times we will loop over ask()/tell()\n",
    "GENERATIONS = 50"
   ]
  },
  {
   "cell_type": "code",
   "execution_count": 3,
   "metadata": {},
   "outputs": [],
   "source": [
    "#Loading the data from path-\n",
    "# This part adopted from LYU CHAOFAN_Github(permission was obtained)https://github.com/C-002/CE888_Assignment/blob/master/LoadImages.ipynb\n",
    "Amazon_path = './Original_images/amazon/images'\n",
    "dslr_path   = './Original_images/dslr/images'\n",
    "webcam_path = './Original_images/webcam/images'\n",
    "paths = [Amazon_path, dslr_path, webcam_path]\n",
    "files = os.listdir(Amazon_path)\n",
    "labels = {}\n",
    "count  = 0\n",
    "for key in files:\n",
    "    a = {key : count}\n",
    "    labels.update(a)\n",
    "    count += 1\n",
    "# print (labels)\n",
    "images_path = []\n",
    "Amazon = dataSet()\n",
    "webcam = dataSet()"
   ]
  },
  {
   "cell_type": "code",
   "execution_count": 4,
   "metadata": {},
   "outputs": [
    {
     "name": "stdout",
     "output_type": "stream",
     "text": [
      "\n",
      "done\n",
      "\n",
      "done\n"
     ]
    }
   ],
   "source": [
    "#loading Amazon data\n",
    "for dirname in files:\n",
    "    images_name = os.listdir(Amazon_path + '/' + dirname)\n",
    "    for name in images_name:\n",
    "        Image_Path = Amazon_path + '/' + dirname + '/' + name\n",
    "        images_path.append(Image_Path)\n",
    "        image_data = cv2.imread(Image_Path)\n",
    "        image_data = cv2.resize(image_data, (img_rows, img_cols), interpolation=cv2.INTER_CUBIC)\n",
    "        image_data = image_data.reshape(img_rows, img_cols, 3)\n",
    "        Amazon.upData(image_data, labels[dirname], labels)\n",
    "Amazon.sHape()\n",
    "#loading webcam data\n",
    "for dirname in files:\n",
    "    images_name = os.listdir(webcam_path + '/' + dirname)\n",
    "    for name in images_name:\n",
    "        Image_Path = webcam_path + '/' + dirname + '/' + name\n",
    "        images_path.append(Image_Path)\n",
    "        image_data = cv2.imread(Image_Path)\n",
    "        image_data = cv2.resize(image_data, (img_rows, img_cols), interpolation=cv2.INTER_CUBIC)\n",
    "        image_data = image_data.reshape(img_rows, img_cols, 3)\n",
    "        webcam.upData(image_data, labels[dirname], labels)\n",
    "webcam.sHape()\n"
   ]
  },
  {
   "cell_type": "code",
   "execution_count": 5,
   "metadata": {},
   "outputs": [
    {
     "name": "stdout",
     "output_type": "stream",
     "text": [
      "For label classifier\n",
      "x_train shape: (2817, 28, 28, 3)\n",
      "x_test shape: (795, 28, 28, 3)\n",
      "2817 train samples\n",
      "795 test samples\n",
      "For domain classifier\n",
      "x_domain shape: (3612, 28, 28, 3)\n",
      "3612 domain samples\n"
     ]
    }
   ],
   "source": [
    "#label classifier data\n",
    "x_train = Amazon.data\n",
    "y_train = Amazon.label\n",
    "x_test  = webcam.data\n",
    "y_test  = webcam.label\n",
    "x_train = x_train.reshape(x_train.shape[0], img_rows, img_cols, 3)\n",
    "x_test = x_test.reshape(x_test.shape[0], img_rows, img_cols, 3)\n",
    "input_shape = (img_rows, img_cols, 3)\n",
    "#data normalization\n",
    "x_train = x_train.astype('float32')\n",
    "x_test = x_test.astype('float32')\n",
    "x_train /= 255\n",
    "x_test /= 255\n",
    "#domain classifier data\n",
    "x_domain=np.concatenate((x_train,x_test), axis =0)\n",
    "y_domain = np.concatenate((np.zeros(y_train.shape[0]), np.ones(y_test.shape[0])),axis=0)\n",
    "print(\"For label classifier\")\n",
    "print('x_train shape:', x_train.shape)\n",
    "print('x_test shape:', x_test.shape)\n",
    "print(x_train.shape[0], 'train samples')\n",
    "print(x_test.shape[0], 'test samples')\n",
    "print(\"For domain classifier\")\n",
    "print('x_domain shape:', x_domain.shape)\n",
    "print(y_domain.shape[0], 'domain samples')"
   ]
  },
  {
   "cell_type": "code",
   "execution_count": 6,
   "metadata": {},
   "outputs": [],
   "source": [
    "#the neural network model\n",
    "model = Sequential()\n",
    "model.add(Conv2D(32, kernel_size=(3, 3),\n",
    "                 activation='relu',\n",
    "                 input_shape=(28,28,3)))\n",
    "model.add(Conv2D(64, (3, 3), activation='relu'))\n",
    "model.add(MaxPooling2D(pool_size=(2, 2)))\n",
    "model.add(Flatten())\n",
    "model.add(Dense(80, activation='relu'))\n",
    "nnw = NNWeightHelper(model)\n",
    "weights = nnw.get_weights()\n"
   ]
  },
  {
   "cell_type": "code",
   "execution_count": 7,
   "metadata": {},
   "outputs": [
    {
     "name": "stdout",
     "output_type": "stream",
     "text": [
      "Total number of weights to evolve is: (756752,)\n",
      "x_test shape: (795,)\n",
      "x_pred shape: (795,)\n",
      "Non-trained NN Test accuracy: 0.04150943396226415\n"
     ]
    }
   ],
   "source": [
    "print(\"Total number of weights to evolve is:\", weights.shape)\n",
    "all_examples_indices = list(range(x_train.shape[0]))\n",
    "clf, _ = train_classifier(model, x_train, y_train)\n",
    "y_pred = predict_classifier(model, clf, x_test)\n",
    "print('x_test shape:',y_test.shape)\n",
    "print('x_pred shape:',y_pred.shape)\n",
    "test_accuracy = accuracy_score(y_test, y_pred)\n",
    "print('Non-trained NN Test accuracy:', test_accuracy)"
   ]
  },
  {
   "cell_type": "code",
   "execution_count": 8,
   "metadata": {},
   "outputs": [
    {
     "name": "stdout",
     "output_type": "stream",
     "text": [
      "Step 1.0 : 0.42714570858283435 best: 0.42714570858283435 15\n",
      "It took 35.595348029979505 seconds to complete generation 1\n",
      "Step 2.0 : 0.3992015968063872 best: 0.42714570858283435 15\n",
      "It took 32.98077584395651 seconds to complete generation 2\n",
      "Step 3.0 : 0.4231536926147704 best: 0.42714570858283435 15\n",
      "It took 34.33455558796413 seconds to complete generation 3\n",
      "Step 4.0 : 0.43313373253493015 best: 0.43313373253493015 15\n",
      "It took 35.585456529050134 seconds to complete generation 4\n",
      "Step 5.0 : 0.4191616766467066 best: 0.43313373253493015 15\n",
      "It took 40.206820635008626 seconds to complete generation 5\n",
      "Step 6.0 : 0.4091816367265469 best: 0.43313373253493015 15\n",
      "It took 46.891713293036446 seconds to complete generation 6\n",
      "Step 7.0 : 0.4031936127744511 best: 0.43313373253493015 15\n",
      "It took 38.895303704892285 seconds to complete generation 7\n",
      "Step 8.0 : 0.39520958083832336 best: 0.43313373253493015 15\n",
      "It took 46.607879234012216 seconds to complete generation 8\n",
      "Step 9.0 : 0.3852295409181637 best: 0.43313373253493015 15\n",
      "It took 41.75743309000973 seconds to complete generation 9\n",
      "Step 10.0 : 0.4391217564870259 best: 0.4391217564870259 15\n",
      "It took 42.88843088399153 seconds to complete generation 10\n",
      "Step 11.0 : 0.4610778443113772 best: 0.4610778443113772 15\n",
      "It took 47.80295775493141 seconds to complete generation 11\n",
      "Step 12.0 : 0.4131736526946108 best: 0.4610778443113772 15\n",
      "It took 45.41208773502149 seconds to complete generation 12\n",
      "Step 13.0 : 0.4131736526946108 best: 0.4610778443113772 15\n",
      "It took 45.9126444789581 seconds to complete generation 13\n",
      "Step 14.0 : 0.4411177644710579 best: 0.4610778443113772 15\n",
      "It took 39.64739177597221 seconds to complete generation 14\n",
      "Step 15.0 : 0.40918163672654695 best: 0.4610778443113772 15\n",
      "It took 39.49500796000939 seconds to complete generation 15\n",
      "Step 16.0 : 0.43912175648702595 best: 0.4610778443113772 15\n",
      "It took 39.60844205599278 seconds to complete generation 16\n",
      "Step 17.0 : 0.45708582834331335 best: 0.4610778443113772 15\n",
      "It took 39.896035479032435 seconds to complete generation 17\n",
      "Step 18.0 : 0.39520958083832336 best: 0.4610778443113772 15\n",
      "It took 38.915622769040056 seconds to complete generation 18\n",
      "Step 19.0 : 0.4191616766467066 best: 0.4610778443113772 15\n",
      "It took 40.470561190042645 seconds to complete generation 19\n",
      "Step 20.0 : 0.4111776447105788 best: 0.4610778443113772 15\n",
      "It took 38.55789509997703 seconds to complete generation 20\n",
      "Step 21.0 : 0.3992015968063872 best: 0.4610778443113772 15\n",
      "It took 39.07688449998386 seconds to complete generation 21\n",
      "Step 22.0 : 0.43912175648702595 best: 0.4610778443113772 15\n",
      "It took 38.41227355808951 seconds to complete generation 22\n",
      "Step 23.0 : 0.437125748502994 best: 0.4610778443113772 15\n",
      "It took 38.650695311953314 seconds to complete generation 23\n",
      "Step 24.0 : 0.43912175648702595 best: 0.4610778443113772 15\n",
      "It took 38.49601302493829 seconds to complete generation 24\n",
      "Step 25.0 : 0.4091816367265469 best: 0.4610778443113772 15\n",
      "It took 44.80292273196392 seconds to complete generation 25\n",
      "Step 26.0 : 0.44510978043912175 best: 0.4610778443113772 15\n",
      "It took 47.69424371107016 seconds to complete generation 26\n",
      "Step 27.0 : 0.39321357285429137 best: 0.4610778443113772 15\n",
      "It took 43.51069236302283 seconds to complete generation 27\n",
      "Step 28.0 : 0.469061876247505 best: 0.469061876247505 15\n",
      "It took 44.92459604796022 seconds to complete generation 28\n",
      "Step 29.0 : 0.4650698602794411 best: 0.469061876247505 15\n",
      "It took 47.714429458021186 seconds to complete generation 29\n",
      "Step 30.0 : 0.3692614770459082 best: 0.469061876247505 15\n",
      "It took 52.75366172497161 seconds to complete generation 30\n",
      "Step 31.0 : 0.4251497005988024 best: 0.469061876247505 15\n",
      "It took 52.22056969406549 seconds to complete generation 31\n",
      "Step 32.0 : 0.45708582834331335 best: 0.469061876247505 15\n",
      "It took 47.90393446502276 seconds to complete generation 32\n",
      "Step 33.0 : 0.4111776447105788 best: 0.469061876247505 15\n",
      "It took 47.60139179194812 seconds to complete generation 33\n",
      "Step 34.0 : 0.38922155688622756 best: 0.469061876247505 15\n",
      "It took 63.989031050004996 seconds to complete generation 34\n",
      "Step 35.0 : 0.47704590818363274 best: 0.47704590818363274 15\n",
      "It took 57.26239961304236 seconds to complete generation 35\n",
      "Step 36.0 : 0.40718562874251496 best: 0.47704590818363274 15\n",
      "It took 59.07045906991698 seconds to complete generation 36\n",
      "Step 37.0 : 0.42714570858283435 best: 0.47704590818363274 15\n",
      "It took 57.21744148095604 seconds to complete generation 37\n",
      "Step 38.0 : 0.4510978043912176 best: 0.47704590818363274 15\n",
      "It took 55.388345116050914 seconds to complete generation 38\n",
      "Step 39.0 : 0.4291417165668663 best: 0.47704590818363274 15\n",
      "It took 47.35261092009023 seconds to complete generation 39\n",
      "Step 40.0 : 0.42514970059880236 best: 0.47704590818363274 15\n",
      "It took 46.00353216205258 seconds to complete generation 40\n",
      "Step 41.0 : 0.3972055888223553 best: 0.47704590818363274 15\n",
      "It took 50.84704280097503 seconds to complete generation 41\n",
      "Step 42.0 : 0.40718562874251496 best: 0.47704590818363274 15\n",
      "It took 56.708965171012096 seconds to complete generation 42\n",
      "Step 43.0 : 0.4231536926147705 best: 0.47704590818363274 15\n",
      "It took 56.34018048399594 seconds to complete generation 43\n",
      "Step 44.0 : 0.4391217564870259 best: 0.47704590818363274 15\n",
      "It took 58.28378574701492 seconds to complete generation 44\n",
      "Step 45.0 : 0.4471057884231537 best: 0.47704590818363274 15\n",
      "It took 57.77658172301017 seconds to complete generation 45\n",
      "Step 46.0 : 0.4151696606786427 best: 0.47704590818363274 15\n",
      "It took 54.96122195699718 seconds to complete generation 46\n",
      "Step 47.0 : 0.4231536926147705 best: 0.47704590818363274 15\n",
      "It took 42.917022123001516 seconds to complete generation 47\n",
      "Step 48.0 : 0.45508982035928147 best: 0.47704590818363274 15\n",
      "It took 43.730975792976096 seconds to complete generation 48\n",
      "Step 49.0 : 0.4171656686626747 best: 0.47704590818363274 15\n",
      "It took 42.47601174004376 seconds to complete generation 49\n",
      "Step 50.0 : 0.4411177644710579 best: 0.47704590818363274 15\n",
      "It took 41.940344394999556 seconds to complete generation 50\n",
      "(795,) (795,)\n",
      "Test accuracy on target: 0.050314465408805034\n"
     ]
    }
   ],
   "source": [
    "#evolutionary process with SNES\n",
    "snes = SNES(weights, 1, POPULATION_SIZE)\n",
    "log = []\n",
    "for i in range(0, GENERATIONS):\n",
    "    start = timer()\n",
    "    asked = snes.ask()\n",
    "\n",
    "    # to be provided back to snes\n",
    "    told = []\n",
    "    # use a small number of training samples for speed purposes\n",
    "    subsample_indices = np.random.choice(all_examples_indices, size=SAMPLE_SIZE, replace=False)\n",
    "    # evaluate on another subset\n",
    "    subsample_indices_valid = np.random.choice(all_examples_indices, size=SAMPLE_SIZE + 1, replace=False)\n",
    "\n",
    "    # iterate over the population\n",
    "    for asked_j in asked:\n",
    "        # set nn weights\n",
    "        nnw.set_weights(asked_j)\n",
    "        # train the classifer and get back the predictions on the training data\n",
    "        clf, _ = train_classifier(model, x_train[subsample_indices], y_train[subsample_indices])\n",
    "        clf2, _ = train_classifier(model, x_domain[subsample_indices], y_domain[subsample_indices])\n",
    "\n",
    "        # calculate the predictions on a different set\n",
    "        y_pred = predict_classifier(model, clf, x_train[subsample_indices_valid])\n",
    "        score = accuracy_score(y_train[subsample_indices_valid], y_pred)\n",
    "\n",
    "        y_pred2 = predict_classifier(model, clf, x_domain[subsample_indices_valid])\n",
    "        score2 = accuracy_score(y_domain[subsample_indices_valid], y_pred)\n",
    "                    \n",
    "        # append to array of values that are to be returned\n",
    "        total=score+score2\n",
    "        told.append(total)\n",
    "\n",
    "    t = snes.tell(asked, told)\n",
    "    log.append(t)\n",
    "    end = timer()\n",
    "    print(\"It took\", end - start, \"seconds to complete generation\", i + 1)\n",
    "nnw.set_weights(snes.center)\n",
    "\n",
    "clf, _ = train_classifier(model, x_train, y_train)\n",
    "y_pred = predict_classifier(model, clf, x_test)\n",
    "print(y_test.shape, y_pred.shape)\n",
    "test_accuracy = accuracy_score(y_test, y_pred)\n",
    "print('Test accuracy on target:', test_accuracy)"
   ]
  },
  {
   "cell_type": "code",
   "execution_count": 9,
   "metadata": {},
   "outputs": [
    {
     "data": {
      "image/png": "[encoded data removed]",
      "text/plain": [
       "<Figure size 432x288 with 1 Axes>"
      ]
     },
     "metadata": {},
     "output_type": "display_data"
    }
   ],
   "source": [
    "plt.plot(log)\n",
    "plt.title('loss plot(Amazon as a source and Webcam as a target)')\n",
    "plt.xlabel('genaration')\n",
    "plt.ylabel('loss value')\n",
    "plt.legend('test', loc='upper left')\n",
    "plt.savefig('Plot_amazon_webcam.png')\n",
    "plt.show()"
   ]
  }
 ],
 "metadata": {
  "kernelspec": {
   "display_name": "Python 3",
   "language": "python",
   "name": "python3"
  },
  "language_info": {
   "codemirror_mode": {
    "name": "ipython",
    "version": 3
   },
   "file_extension": ".py",
   "mimetype": "text/x-python",
   "name": "python",
   "nbconvert_exporter": "python",
   "pygments_lexer": "ipython3",
   "version": "3.6.4"
  }
 },
 "nbformat": 4,
 "nbformat_minor": 2
}
