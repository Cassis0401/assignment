{
 "cells": [
  {
   "cell_type": "code",
   "execution_count": 1,
   "metadata": {},
   "outputs": [],
   "source": [
    "import os \n",
    "from PIL import Image\n",
    "import numpy as np\n",
    "from utils import *\n",
    "amazonPATH=\"C:\\\\Users\\\\cc\\\\Anaconda3\\\\envs\\\\MLenviroment\\\\CE888\\Original_images\\\\amazon\"\n",
    "dslrPATH=\"C:\\\\Users\\\\cc\\\\Anaconda3\\\\envs\\\\MLenviroment\\\\CE888\\Original_images\\\\dslr\"\n",
    "webcamPATH=\"C:\\\\Users\\\\cc\\\\Anaconda3\\\\envs\\\\MLenviroment\\\\CE888\\Original_images\\\\webcam\"\n",
    "def get_image_list(dic):\n",
    "    image_list = []\n",
    "    image_label = []\n",
    "    for root, dirs, files in os.walk(dic):\n",
    "        for file in files:\n",
    "            if file.endswith('.jpg'):\n",
    "                # print file\n",
    "                temp = str(root).split('/')\n",
    "                label = temp[-1]\n",
    "                im = Image.open(root + '/' + file)\n",
    "                im=np.array(im)\n",
    "                image_list.append(im)\n",
    "                image_label.append(label)\n",
    "    return np.array(image_list), np.array(image_label)\n",
    "\t\n",
    "\t\n",
    "\t\n",
    "amazonImage,amazonLabels=get_image_list(amazonPATH)\n",
    "dslrImages,dslrLabels=get_image_list(dslrPATH)\n",
    "webcamImages,webcamLabels=get_image_list(webcamPATH)\n",
    "#print(amazonImage[0].shape)\n",
    "#print(dslrImages[0].shape)\n",
    "#print(webcamImages[0].shape)\n",
    "#display=[dslrImages[0],dslrImages[30],dslrImages[54],dslrImages[60]]\n",
    "#im=imshow_grid(display)\n",
    "#im.save(\"amazonData.jpeg\")\n",
    "#im.show()"
   ]
  },
  {
   "cell_type": "code",
   "execution_count": null,
   "metadata": {},
   "outputs": [],
   "source": []
  }
 ],
 "metadata": {
  "kernelspec": {
   "display_name": "Python 3",
   "language": "python",
   "name": "python3"
  },
  "language_info": {
   "codemirror_mode": {
    "name": "ipython",
    "version": 3
   },
   "file_extension": ".py",
   "mimetype": "text/x-python",
   "name": "python",
   "nbconvert_exporter": "python",
   "pygments_lexer": "ipython3",
   "version": "3.6.4"
  }
 },
 "nbformat": 4,
 "nbformat_minor": 2
}
